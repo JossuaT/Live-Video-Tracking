{
 "cells": [
  {
   "cell_type": "markdown",
   "metadata": {},
   "source": [
    "***Import***"
   ]
  },
  {
   "cell_type": "code",
   "execution_count": 1,
   "metadata": {},
   "outputs": [
    {
     "name": "stdout",
     "output_type": "stream",
     "text": [
      "WARNING:tensorflow:From c:\\Users\\josst\\OneDrive\\Documents\\INGE3\\S9\\PFE\\venv_PFE\\Lib\\site-packages\\tf_keras\\src\\losses.py:2976: The name tf.losses.sparse_softmax_cross_entropy is deprecated. Please use tf.compat.v1.losses.sparse_softmax_cross_entropy instead.\n",
      "\n"
     ]
    }
   ],
   "source": [
    "from deepface import DeepFace"
   ]
  },
  {
   "cell_type": "code",
   "execution_count": 19,
   "metadata": {},
   "outputs": [
    {
     "name": "stdout",
     "output_type": "stream",
     "text": [
      "24-11-09 18:08:03 - Searching ../image.jpg in 2 length datastore\n",
      "24-11-09 18:08:03 - find function duration 0.5208055973052979 seconds\n"
     ]
    }
   ],
   "source": [
    "results = DeepFace.find(\n",
    "    img_path='../image.jpg',\n",
    "    db_path='../face_recognition_model/players_dataset',\n",
    "    model_name='ArcFace'\n",
    ")"
   ]
  },
  {
   "cell_type": "code",
   "execution_count": null,
   "metadata": {},
   "outputs": [],
   "source": [
    "#results = DeepFace.stream(db_path='project/face_recognition_model/players_dataset')"
   ]
  },
  {
   "cell_type": "code",
   "execution_count": 20,
   "metadata": {},
   "outputs": [
    {
     "name": "stdout",
     "output_type": "stream",
     "text": [
      "[                                            identity  \\\n",
      "0  ../face_recognition_model/players_dataset\\Anto...   \n",
      "\n",
      "                                       hash  target_x  target_y  target_w  \\\n",
      "0  09535e29589a733e41e1a0742b8d73ab9bab7f9e       506        96       188   \n",
      "\n",
      "   target_h  source_x  source_y  source_w  source_h  threshold  distance  \n",
      "0       188       141        35        83        83       0.68  0.486598  ]\n"
     ]
    }
   ],
   "source": [
    "print(results)"
   ]
  },
  {
   "cell_type": "code",
   "execution_count": 21,
   "metadata": {},
   "outputs": [
    {
     "name": "stdout",
     "output_type": "stream",
     "text": [
      "0    ../face_recognition_model/players_dataset\\Anto...\n",
      "Name: identity, dtype: object\n"
     ]
    }
   ],
   "source": [
    "print(results[0]['identity'])"
   ]
  },
  {
   "cell_type": "code",
   "execution_count": 22,
   "metadata": {},
   "outputs": [
    {
     "name": "stdout",
     "output_type": "stream",
     "text": [
      "../face_recognition_model/players_dataset\\AntoineDupont\\9.jpg\n"
     ]
    }
   ],
   "source": [
    "for object in results[0]['identity']:\n",
    "    print(object)"
   ]
  }
 ],
 "metadata": {
  "kernelspec": {
   "display_name": "venv_PFE",
   "language": "python",
   "name": "python3"
  },
  "language_info": {
   "codemirror_mode": {
    "name": "ipython",
    "version": 3
   },
   "file_extension": ".py",
   "mimetype": "text/x-python",
   "name": "python",
   "nbconvert_exporter": "python",
   "pygments_lexer": "ipython3",
   "version": "3.12.2"
  }
 },
 "nbformat": 4,
 "nbformat_minor": 2
}
