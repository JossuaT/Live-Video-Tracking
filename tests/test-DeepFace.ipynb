{
 "cells": [
  {
   "cell_type": "markdown",
   "metadata": {},
   "source": [
    "# Utilisation de DeepFace"
   ]
  },
  {
   "cell_type": "markdown",
   "metadata": {},
   "source": [
    "***Import***"
   ]
  },
  {
   "cell_type": "code",
   "execution_count": 2,
   "metadata": {},
   "outputs": [],
   "source": [
    "from deepface import DeepFace"
   ]
  },
  {
   "cell_type": "code",
   "execution_count": 4,
   "metadata": {},
   "outputs": [
    {
     "name": "stdout",
     "output_type": "stream",
     "text": [
      "24-11-26 18:40:17 - Searching ../data/imgg.webp in 4 length datastore\n",
      "24-11-26 18:40:17 - find function duration 0.6493172645568848 seconds\n"
     ]
    }
   ],
   "source": [
    "results = DeepFace.find(\n",
    "    img_path='../data/imgg.webp',\n",
    "    db_path='../data/players_dataset',\n",
    "    model_name='ArcFace'\n",
    ")"
   ]
  },
  {
   "cell_type": "code",
   "execution_count": null,
   "metadata": {},
   "outputs": [],
   "source": [
    "#results = DeepFace.stream(db_path='project/face_recognition_model/players_dataset')"
   ]
  },
  {
   "cell_type": "code",
   "execution_count": 5,
   "metadata": {},
   "outputs": [
    {
     "name": "stdout",
     "output_type": "stream",
     "text": [
      "[                                      identity  \\\n",
      "0  ../data/players_dataset\\AntoineDupont\\9.jpg   \n",
      "\n",
      "                                       hash  target_x  target_y  target_w  \\\n",
      "0  64ba7893880268903fc83b76535a4ebd845e460e       506        96       188   \n",
      "\n",
      "   target_h  source_x  source_y  source_w  source_h  threshold  distance  \n",
      "0       188       141        35        83        83       0.68  0.486598  ]\n"
     ]
    }
   ],
   "source": [
    "print(results)"
   ]
  },
  {
   "cell_type": "code",
   "execution_count": 12,
   "metadata": {},
   "outputs": [
    {
     "name": "stdout",
     "output_type": "stream",
     "text": [
      "../data/players_dataset\\AntoineDupont\\0.jpg\n",
      "../data/players_dataset\\AntoineDupont\\9.jpg\n"
     ]
    }
   ],
   "source": [
    "for object in results[0]['identity']:\n",
    "    print(object)"
   ]
  },
  {
   "cell_type": "code",
   "execution_count": 13,
   "metadata": {},
   "outputs": [
    {
     "name": "stdout",
     "output_type": "stream",
     "text": [
      "0    ../data/players_dataset\\AntoineDupont\\0.jpg\n",
      "1    ../data/players_dataset\\AntoineDupont\\9.jpg\n",
      "Name: identity, dtype: object\n"
     ]
    }
   ],
   "source": [
    "print(results[0]['identity'])"
   ]
  },
  {
   "cell_type": "markdown",
   "metadata": {},
   "source": [
    "# Implementation avec RetinaFace"
   ]
  },
  {
   "cell_type": "code",
   "execution_count": 11,
   "metadata": {},
   "outputs": [],
   "source": [
    "from retinaface import RetinaFace\n",
    "from deepface import DeepFace"
   ]
  },
  {
   "cell_type": "code",
   "execution_count": 17,
   "metadata": {},
   "outputs": [],
   "source": [
    "resp = RetinaFace.detect_faces(\"../data/players_dataset/AntoineDupont/9.jpg\")\n"
   ]
  },
  {
   "cell_type": "code",
   "execution_count": 19,
   "metadata": {},
   "outputs": [],
   "source": [
    "resp = RetinaFace.detect_faces(\"../data/img_test.webp\")"
   ]
  },
  {
   "cell_type": "code",
   "execution_count": 20,
   "metadata": {},
   "outputs": [
    {
     "name": "stdout",
     "output_type": "stream",
     "text": [
      "{'score': np.float64(0.9989101886749268), 'facial_area': [np.int64(651), np.int64(99), np.int64(719), np.int64(204)], 'landmarks': {'right_eye': [np.float32(697.4139), np.float32(137.80914)], 'left_eye': [np.float32(706.66254), np.float32(137.71713)], 'nose': [np.float32(718.9447), np.float32(157.40692)], 'mouth_right': [np.float32(699.5373), np.float32(177.81451)], 'mouth_left': [np.float32(705.86633), np.float32(178.63678)]}}\n"
     ]
    }
   ],
   "source": [
    "for face in resp:\n",
    "    print(resp[face])\n"
   ]
  },
  {
   "cell_type": "code",
   "execution_count": 23,
   "metadata": {},
   "outputs": [],
   "source": [
    "obj = DeepFace.verify(\"../data/img_test.webp\", \"../data/players_dataset/AntoineDupont/0.jpg\"\n",
    "          , model_name = 'ArcFace', detector_backend = 'retinaface')"
   ]
  },
  {
   "cell_type": "code",
   "execution_count": 24,
   "metadata": {},
   "outputs": [
    {
     "name": "stdout",
     "output_type": "stream",
     "text": [
      "True\n"
     ]
    }
   ],
   "source": [
    "print(obj[\"verified\"])"
   ]
  }
 ],
 "metadata": {
  "kernelspec": {
   "display_name": "venv_PFE",
   "language": "python",
   "name": "python3"
  },
  "language_info": {
   "codemirror_mode": {
    "name": "ipython",
    "version": 3
   },
   "file_extension": ".py",
   "mimetype": "text/x-python",
   "name": "python",
   "nbconvert_exporter": "python",
   "pygments_lexer": "ipython3",
   "version": "3.12.2"
  }
 },
 "nbformat": 4,
 "nbformat_minor": 2
}
