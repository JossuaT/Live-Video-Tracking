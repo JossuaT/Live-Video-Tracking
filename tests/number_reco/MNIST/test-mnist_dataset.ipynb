{
 "cells": [
  {
   "cell_type": "markdown",
   "metadata": {},
   "source": [
    "# Visualisation des données MNIST"
   ]
  },
  {
   "cell_type": "markdown",
   "metadata": {},
   "source": [
    "***Import***"
   ]
  },
  {
   "cell_type": "code",
   "execution_count": 2,
   "metadata": {},
   "outputs": [],
   "source": [
    "import numpy as np"
   ]
  },
  {
   "cell_type": "markdown",
   "metadata": {},
   "source": [
    "***Charger le dataset enregistrer plus tôt***"
   ]
  },
  {
   "cell_type": "code",
   "execution_count": 3,
   "metadata": {},
   "outputs": [],
   "source": [
    "# Charger les données et les labels\n",
    "data = np.load('digits_data.npy')\n",
    "labels = np.load('digits_target.npy')"
   ]
  },
  {
   "cell_type": "markdown",
   "metadata": {},
   "source": [
    "***Visualisation des datas***"
   ]
  },
  {
   "cell_type": "code",
   "execution_count": 4,
   "metadata": {},
   "outputs": [
    {
     "name": "stdout",
     "output_type": "stream",
     "text": [
      "(1797, 64)\n",
      "(64,)\n",
      "[ 0.  0.  5. 13.  9.  1.  0.  0.  0.  0. 13. 15. 10. 15.  5.  0.  0.  3.\n",
      " 15.  2.  0. 11.  8.  0.  0.  4. 12.  0.  0.  8.  8.  0.  0.  5.  8.  0.\n",
      "  0.  9.  8.  0.  0.  4. 11.  0.  1. 12.  7.  0.  0.  2. 14.  5. 10. 12.\n",
      "  0.  0.  0.  0.  6. 13. 10.  0.  0.  0.]\n"
     ]
    }
   ],
   "source": [
    "print(data.shape)\n",
    "print(data[0].shape)\n",
    "print(data[0])"
   ]
  },
  {
   "cell_type": "markdown",
   "metadata": {},
   "source": [
    "***Reshape des images***"
   ]
  },
  {
   "cell_type": "code",
   "execution_count": 5,
   "metadata": {},
   "outputs": [],
   "source": [
    "digits = [digit.reshape(8, 8) for digit in data]"
   ]
  },
  {
   "cell_type": "code",
   "execution_count": 6,
   "metadata": {},
   "outputs": [
    {
     "data": {
      "image/jpeg": "[encoded data removed]",
      "image/png": "[encoded data removed]",
      "text/plain": [
       "<PIL.Image.Image image mode=L size=8x8>"
      ]
     },
     "metadata": {},
     "output_type": "display_data"
    },
    {
     "data": {
      "image/jpeg": "[encoded data removed]",
      "image/png": "[encoded data removed]",
      "text/plain": [
       "<PIL.Image.Image image mode=L size=8x8>"
      ]
     },
     "metadata": {},
     "output_type": "display_data"
    }
   ],
   "source": [
    "from PIL import Image\n",
    "\n",
    "digits_img = [Image.fromarray((digit * 16).astype(np.uint8)) for digit in digits]\n",
    "\n",
    "for img in digits_img[:2] :\n",
    "    display(img)"
   ]
  },
  {
   "cell_type": "code",
   "execution_count": 14,
   "metadata": {},
   "outputs": [
    {
     "data": {
      "text/html": [
       "\n",
       "<div style=\"display: inline-block; line-height: 0;\">\n",
       "    <span style=\"background-color: rgb(0.0,0.0,0.0); display: inline-block; width: 20px; height: 20px;\"></span><span style=\"background-color: rgb(0.0,0.0,0.0); display: inline-block; width: 20px; height: 20px;\"></span><span style=\"background-color: rgb(0.0,0.0,0.0); display: inline-block; width: 20px; height: 20px;\"></span><span style=\"background-color: rgb(12.0,12.0,12.0); display: inline-block; width: 20px; height: 20px;\"></span><span style=\"background-color: rgb(13.0,13.0,13.0); display: inline-block; width: 20px; height: 20px;\"></span><span style=\"background-color: rgb(5.0,5.0,5.0); display: inline-block; width: 20px; height: 20px;\"></span><span style=\"background-color: rgb(0.0,0.0,0.0); display: inline-block; width: 20px; height: 20px;\"></span><span style=\"background-color: rgb(0.0,0.0,0.0); display: inline-block; width: 20px; height: 20px;\"></span><br><span style=\"background-color: rgb(0.0,0.0,0.0); display: inline-block; width: 20px; height: 20px;\"></span><span style=\"background-color: rgb(0.0,0.0,0.0); display: inline-block; width: 20px; height: 20px;\"></span><span style=\"background-color: rgb(0.0,0.0,0.0); display: inline-block; width: 20px; height: 20px;\"></span><span style=\"background-color: rgb(11.0,11.0,11.0); display: inline-block; width: 20px; height: 20px;\"></span><span style=\"background-color: rgb(16.0,16.0,16.0); display: inline-block; width: 20px; height: 20px;\"></span><span style=\"background-color: rgb(9.0,9.0,9.0); display: inline-block; width: 20px; height: 20px;\"></span><span style=\"background-color: rgb(0.0,0.0,0.0); display: inline-block; width: 20px; height: 20px;\"></span><span style=\"background-color: rgb(0.0,0.0,0.0); display: inline-block; width: 20px; height: 20px;\"></span><br><span style=\"background-color: rgb(0.0,0.0,0.0); display: inline-block; width: 20px; height: 20px;\"></span><span style=\"background-color: rgb(0.0,0.0,0.0); display: inline-block; width: 20px; height: 20px;\"></span><span style=\"background-color: rgb(3.0,3.0,3.0); display: inline-block; width: 20px; height: 20px;\"></span><span style=\"background-color: rgb(15.0,15.0,15.0); display: inline-block; width: 20px; height: 20px;\"></span><span style=\"background-color: rgb(16.0,16.0,16.0); display: inline-block; width: 20px; height: 20px;\"></span><span style=\"background-color: rgb(6.0,6.0,6.0); display: inline-block; width: 20px; height: 20px;\"></span><span style=\"background-color: rgb(0.0,0.0,0.0); display: inline-block; width: 20px; height: 20px;\"></span><span style=\"background-color: rgb(0.0,0.0,0.0); display: inline-block; width: 20px; height: 20px;\"></span><br><span style=\"background-color: rgb(0.0,0.0,0.0); display: inline-block; width: 20px; height: 20px;\"></span><span style=\"background-color: rgb(7.0,7.0,7.0); display: inline-block; width: 20px; height: 20px;\"></span><span style=\"background-color: rgb(15.0,15.0,15.0); display: inline-block; width: 20px; height: 20px;\"></span><span style=\"background-color: rgb(16.0,16.0,16.0); display: inline-block; width: 20px; height: 20px;\"></span><span style=\"background-color: rgb(16.0,16.0,16.0); display: inline-block; width: 20px; height: 20px;\"></span><span style=\"background-color: rgb(2.0,2.0,2.0); display: inline-block; width: 20px; height: 20px;\"></span><span style=\"background-color: rgb(0.0,0.0,0.0); display: inline-block; width: 20px; height: 20px;\"></span><span style=\"background-color: rgb(0.0,0.0,0.0); display: inline-block; width: 20px; height: 20px;\"></span><br><span style=\"background-color: rgb(0.0,0.0,0.0); display: inline-block; width: 20px; height: 20px;\"></span><span style=\"background-color: rgb(0.0,0.0,0.0); display: inline-block; width: 20px; height: 20px;\"></span><span style=\"background-color: rgb(1.0,1.0,1.0); display: inline-block; width: 20px; height: 20px;\"></span><span style=\"background-color: rgb(16.0,16.0,16.0); display: inline-block; width: 20px; height: 20px;\"></span><span style=\"background-color: rgb(16.0,16.0,16.0); display: inline-block; width: 20px; height: 20px;\"></span><span style=\"background-color: rgb(3.0,3.0,3.0); display: inline-block; width: 20px; height: 20px;\"></span><span style=\"background-color: rgb(0.0,0.0,0.0); display: inline-block; width: 20px; height: 20px;\"></span><span style=\"background-color: rgb(0.0,0.0,0.0); display: inline-block; width: 20px; height: 20px;\"></span><br><span style=\"background-color: rgb(0.0,0.0,0.0); display: inline-block; width: 20px; height: 20px;\"></span><span style=\"background-color: rgb(0.0,0.0,0.0); display: inline-block; width: 20px; height: 20px;\"></span><span style=\"background-color: rgb(1.0,1.0,1.0); display: inline-block; width: 20px; height: 20px;\"></span><span style=\"background-color: rgb(16.0,16.0,16.0); display: inline-block; width: 20px; height: 20px;\"></span><span style=\"background-color: rgb(16.0,16.0,16.0); display: inline-block; width: 20px; height: 20px;\"></span><span style=\"background-color: rgb(6.0,6.0,6.0); display: inline-block; width: 20px; height: 20px;\"></span><span style=\"background-color: rgb(0.0,0.0,0.0); display: inline-block; width: 20px; height: 20px;\"></span><span style=\"background-color: rgb(0.0,0.0,0.0); display: inline-block; width: 20px; height: 20px;\"></span><br><span style=\"background-color: rgb(0.0,0.0,0.0); display: inline-block; width: 20px; height: 20px;\"></span><span style=\"background-color: rgb(0.0,0.0,0.0); display: inline-block; width: 20px; height: 20px;\"></span><span style=\"background-color: rgb(1.0,1.0,1.0); display: inline-block; width: 20px; height: 20px;\"></span><span style=\"background-color: rgb(16.0,16.0,16.0); display: inline-block; width: 20px; height: 20px;\"></span><span style=\"background-color: rgb(16.0,16.0,16.0); display: inline-block; width: 20px; height: 20px;\"></span><span style=\"background-color: rgb(6.0,6.0,6.0); display: inline-block; width: 20px; height: 20px;\"></span><span style=\"background-color: rgb(0.0,0.0,0.0); display: inline-block; width: 20px; height: 20px;\"></span><span style=\"background-color: rgb(0.0,0.0,0.0); display: inline-block; width: 20px; height: 20px;\"></span><br><span style=\"background-color: rgb(0.0,0.0,0.0); display: inline-block; width: 20px; height: 20px;\"></span><span style=\"background-color: rgb(0.0,0.0,0.0); display: inline-block; width: 20px; height: 20px;\"></span><span style=\"background-color: rgb(0.0,0.0,0.0); display: inline-block; width: 20px; height: 20px;\"></span><span style=\"background-color: rgb(11.0,11.0,11.0); display: inline-block; width: 20px; height: 20px;\"></span><span style=\"background-color: rgb(16.0,16.0,16.0); display: inline-block; width: 20px; height: 20px;\"></span><span style=\"background-color: rgb(10.0,10.0,10.0); display: inline-block; width: 20px; height: 20px;\"></span><span style=\"background-color: rgb(0.0,0.0,0.0); display: inline-block; width: 20px; height: 20px;\"></span><span style=\"background-color: rgb(0.0,0.0,0.0); display: inline-block; width: 20px; height: 20px;\"></span><br>\n",
       "</div>\n"
      ],
      "text/plain": [
       "<IPython.core.display.HTML object>"
      ]
     },
     "metadata": {},
     "output_type": "display_data"
    }
   ],
   "source": [
    "from IPython.display import display, HTML\n",
    "\n",
    "# Convertir l'image en HTML pour l'afficher\n",
    "html = f\"\"\"\n",
    "<div style=\"display: inline-block; line-height: 0;\">\n",
    "    {''.join(\n",
    "        ''.join(f'<span style=\"background-color: rgb({v},{v},{v}); display: inline-block; width: 20px; height: 20px;\"></span>' for v in row)\n",
    "        + '<br>'\n",
    "        for row in digits[1]\n",
    "    )}\n",
    "</div>\n",
    "\"\"\"\n",
    "display(HTML(html))"
   ]
  }
 ],
 "metadata": {
  "kernelspec": {
   "display_name": "venv_PFE",
   "language": "python",
   "name": "python3"
  },
  "language_info": {
   "codemirror_mode": {
    "name": "ipython",
    "version": 3
   },
   "file_extension": ".py",
   "mimetype": "text/x-python",
   "name": "python",
   "nbconvert_exporter": "python",
   "pygments_lexer": "ipython3",
   "version": "3.12.2"
  }
 },
 "nbformat": 4,
 "nbformat_minor": 2
}
